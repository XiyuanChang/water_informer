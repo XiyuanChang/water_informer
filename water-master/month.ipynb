{
 "cells": [
  {
   "cell_type": "code",
   "execution_count": 1,
   "metadata": {},
   "outputs": [],
   "source": [
    "import pandas as pd\n"
   ]
  },
  {
   "cell_type": "code",
   "execution_count": 4,
   "metadata": {},
   "outputs": [],
   "source": [
    "dates = []\n",
    "with open(\"../climate_washed/split_datesC.txt\") as f:\n",
    "    for line in f.readlines():\n",
    "        date, mode = line.split(\" \")\n",
    "        date = date.strip()\n",
    "        mode = mode.strip()\n",
    "        \n",
    "        if mode == \"train\":\n",
    "            dates.append(date)\n",
    "\n",
    "df_station = pd.read_csv(\"../climate_washed/static_filtered.csv\", dtype={'STAID': str})"
   ]
  },
  {
   "cell_type": "code",
   "execution_count": 28,
   "metadata": {},
   "outputs": [],
   "source": [
    "import pandas as pd\n",
    "from datetime import datetime\n",
    "\n",
    "def calculate_metrics(df, y):\n",
    "    # Filter the dataset based on the user-defined 'y' variable\n",
    "    observation_data = df[['Date', y]].dropna()\n",
    "\n",
    "    # Define the time segments\n",
    "    segments = [(1982, 1986), (1987, 1991), (1992, 1996), (1997, 2001), \n",
    "                (2002, 2006), (2007, 2011), (2012, 2016), (2017, 2018)]\n",
    "\n",
    "    results = {}\n",
    "\n",
    "    for start_year, end_year in segments:\n",
    "        # Filter data for the current segment\n",
    "        segment_data = observation_data[(observation_data['Date'].dt.year >= start_year) & \n",
    "                                        (observation_data['Date'].dt.year <= end_year)]\n",
    "        \n",
    "        # Create a date range for the full 5-year period\n",
    "        full_range = pd.date_range(start=f'{start_year}-01-01', end=f'{end_year}-12-31', freq='ME')\n",
    "        \n",
    "        # Group by year-month to find months with at least one observation\n",
    "        monthly_counts = segment_data['Date'].dt.to_period('M').value_counts()\n",
    "        \n",
    "        # Calculate monthly availability\n",
    "        months_with_data = monthly_counts.index\n",
    "        monthly_availability = len(months_with_data) / len(full_range)\n",
    "        \n",
    "        # Calculate monthly continuity\n",
    "        sorted_months = sorted(months_with_data)\n",
    "        max_continuous_months = 0\n",
    "        current_streak = 0\n",
    "        prev_month = None\n",
    "        \n",
    "        for month in sorted_months:\n",
    "            if prev_month and (month - prev_month).n > 1:\n",
    "                max_continuous_months = max(max_continuous_months, current_streak)\n",
    "                current_streak = 0\n",
    "            current_streak += 1\n",
    "            prev_month = month\n",
    "            \n",
    "        max_continuous_months = max(max_continuous_months, current_streak)\n",
    "        monthly_continuity = max_continuous_months / len(full_range)\n",
    "        \n",
    "        results[f'{start_year}_{end_year}_Availability'] = monthly_availability\n",
    "        results[f'{start_year}_{end_year}_Continuity'] = monthly_continuity\n",
    "    # print(results)\n",
    "    # Convert results to DataFrame for better visualization\n",
    "    # results_df = pd.DataFrame(results)\n",
    "    return results"
   ]
  },
  {
   "cell_type": "code",
   "execution_count": 35,
   "metadata": {},
   "outputs": [
    {
     "name": "stdout",
     "output_type": "stream",
     "text": [
      "Index(['00010', '00095', '00300', '00400', '00405', '00600', '00605', '00618',\n",
      "       '00660', '00665', '00681', '00915', '00925', '00930', '00935', '00940',\n",
      "       '00945', '00955', '71846', '80154'],\n",
      "      dtype='object')\n"
     ]
    },
    {
     "name": "stderr",
     "output_type": "stream",
     "text": [
      "  0%|          | 0/482 [00:00<?, ?it/s]"
     ]
    },
    {
     "name": "stderr",
     "output_type": "stream",
     "text": [
      "100%|██████████| 482/482 [05:12<00:00,  1.54it/s]\n"
     ]
    },
    {
     "name": "stdout",
     "output_type": "stream",
     "text": [
      "Saved 00010 metrics to statistics/00010_metrics.csv\n",
      "Saved 00095 metrics to statistics/00095_metrics.csv\n",
      "Saved 00300 metrics to statistics/00300_metrics.csv\n",
      "Saved 00400 metrics to statistics/00400_metrics.csv\n",
      "Saved 00405 metrics to statistics/00405_metrics.csv\n",
      "Saved 00600 metrics to statistics/00600_metrics.csv\n",
      "Saved 00605 metrics to statistics/00605_metrics.csv\n",
      "Saved 00618 metrics to statistics/00618_metrics.csv\n",
      "Saved 00660 metrics to statistics/00660_metrics.csv\n",
      "Saved 00665 metrics to statistics/00665_metrics.csv\n",
      "Saved 00681 metrics to statistics/00681_metrics.csv\n",
      "Saved 00915 metrics to statistics/00915_metrics.csv\n",
      "Saved 00925 metrics to statistics/00925_metrics.csv\n",
      "Saved 00930 metrics to statistics/00930_metrics.csv\n",
      "Saved 00935 metrics to statistics/00935_metrics.csv\n",
      "Saved 00940 metrics to statistics/00940_metrics.csv\n",
      "Saved 00945 metrics to statistics/00945_metrics.csv\n",
      "Saved 00955 metrics to statistics/00955_metrics.csv\n",
      "Saved 71846 metrics to statistics/71846_metrics.csv\n",
      "Saved 80154 metrics to statistics/80154_metrics.csv\n"
     ]
    }
   ],
   "source": [
    "from collections import defaultdict\n",
    "from tqdm import tqdm\n",
    "\n",
    "df = pd.read_csv(f\"../climate_washed/11465200.csv\")\n",
    "y_columns = df.columns[1:21]\n",
    "print(y_columns)\n",
    "\n",
    "final_df = defaultdict(dict)\n",
    "\n",
    "for staid in tqdm(df_station['STAID']):\n",
    "    if len(staid) < 8:\n",
    "        staid_str = '0' * (8 - len(staid)) + staid\n",
    "    else:\n",
    "        staid_str = staid\n",
    "\n",
    "    df = pd.read_csv(f\"../climate_washed/{staid_str}.csv\")\n",
    "    df = df[df['Date'].isin(dates)]\n",
    "    df['Date'] = pd.to_datetime(df['Date'])\n",
    "\n",
    "\n",
    "    for y in y_columns:\n",
    "        result = calculate_metrics(df, y)\n",
    "        final_df[y][staid] = result\n",
    "    \n",
    "for y in y_columns:\n",
    "    final_df[y] = pd.DataFrame(final_df[y]).T\n",
    "    # rename the first column to \"staid\"\n",
    "    final_df[y].reset_index(inplace=True)\n",
    "    final_df[y].rename(columns={'index': 'STAID'}, inplace=True)\n",
    "    final_df[y].to_csv(f\"statistics/{y}_metrics.csv\", index=False)\n",
    "    print(f\"Saved {y} metrics to statistics/{y}_metrics.csv\")\n"
   ]
  },
  {
   "cell_type": "code",
   "execution_count": null,
   "metadata": {},
   "outputs": [],
   "source": []
  }
 ],
 "metadata": {
  "kernelspec": {
   "display_name": "base",
   "language": "python",
   "name": "python3"
  },
  "language_info": {
   "codemirror_mode": {
    "name": "ipython",
    "version": 3
   },
   "file_extension": ".py",
   "mimetype": "text/x-python",
   "name": "python",
   "nbconvert_exporter": "python",
   "pygments_lexer": "ipython3",
   "version": "3.11.5"
  }
 },
 "nbformat": 4,
 "nbformat_minor": 2
}
